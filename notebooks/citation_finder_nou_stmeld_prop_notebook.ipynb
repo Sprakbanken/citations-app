{
 "cells": [
  {
   "cell_type": "code",
   "execution_count": 1,
   "id": "adfe9dc2",
   "metadata": {},
   "outputs": [],
   "source": [
    "import re\n",
    "import pandas as pd\n",
    "import dhlab as dh"
   ]
  },
  {
   "cell_type": "code",
   "execution_count": 2,
   "id": "4bb27ca4",
   "metadata": {},
   "outputs": [],
   "source": [
    "pd.set_option('display.max_rows', None, 'display.max_colwidth', None)"
   ]
  },
  {
   "cell_type": "markdown",
   "id": "ef19ac54",
   "metadata": {},
   "source": [
    "#### Bygge korpus"
   ]
  },
  {
   "cell_type": "code",
   "execution_count": 3,
   "id": "2e77d0a5",
   "metadata": {},
   "outputs": [],
   "source": [
    "subject = 'lingvistikk'\n",
    "corp_limit = 1000\n",
    "from_year = 1950"
   ]
  },
  {
   "cell_type": "code",
   "execution_count": 4,
   "id": "1c53cf3b",
   "metadata": {},
   "outputs": [],
   "source": [
    "corpus = dh.Corpus(doctype='digibok', subject=subject, limit=corp_limit, from_year=from_year)"
   ]
  },
  {
   "cell_type": "code",
   "execution_count": 5,
   "id": "4d1c4290",
   "metadata": {},
   "outputs": [],
   "source": [
    "#corpus"
   ]
  },
  {
   "cell_type": "markdown",
   "id": "18afc99c",
   "metadata": {},
   "source": [
    "#### Finne konkordanser med årstall"
   ]
  },
  {
   "cell_type": "code",
   "execution_count": 6,
   "id": "ca060a75",
   "metadata": {},
   "outputs": [],
   "source": [
    "year = 2024\n",
    "\n",
    "tall = list(range(1000,year))"
   ]
  },
  {
   "cell_type": "code",
   "execution_count": 7,
   "id": "8d1aac41",
   "metadata": {},
   "outputs": [],
   "source": [
    "tallOR = ' OR '.join([str(x) for x in tall])"
   ]
  },
  {
   "cell_type": "code",
   "execution_count": 8,
   "id": "862c201c",
   "metadata": {},
   "outputs": [],
   "source": [
    "conc_limit = 4000\n",
    "\n",
    "tallconc = dh.Concordance(corpus, tallOR, limit=conc_limit)"
   ]
  },
  {
   "cell_type": "code",
   "execution_count": 9,
   "id": "f4cc3740",
   "metadata": {},
   "outputs": [],
   "source": [
    "concs = tallconc.frame\n",
    "concs.concordance = concs.concordance.apply(lambda x:x.replace('<b>', '').replace('</b>', '').replace('...', ''))\n",
    "concs1 = concs[['urn', 'concordance']]"
   ]
  },
  {
   "cell_type": "markdown",
   "id": "45dff0ee",
   "metadata": {},
   "source": [
    "#### Finne siteringer"
   ]
  },
  {
   "cell_type": "code",
   "execution_count": 10,
   "id": "038a68e3",
   "metadata": {},
   "outputs": [],
   "source": [
    "regex1 = r\"(?:(?:NOU|nou)\\s*\\(?\\s*\\d{4}\\s*:\\s*\\d{1,4}|(?:St\\s*\\.?\\s*)?Meld\\s*\\.?\\s*(?:St\\s*\\.?\\s*)?(?:nr\\s*\\.?\\s*)?\\d{1,3}\\s*\\(?\\s*\\d{4}\\s*-\\s*\\d{4}\\s*\\)?|Prop\\s*\\.?\\s*\\d{1,3}\\s*[A-ZÆØÅ]\\s*\\(?\\s*\\d{4}\\s*-\\s*\\d{4}\\s*\\)?)(?:\\s*[,(]?\\s*[PpSs]\\s*\\.?\\s*\\d{1,4})?\""
   ]
  },
  {
   "cell_type": "code",
   "execution_count": 11,
   "id": "6ab6586c",
   "metadata": {},
   "outputs": [],
   "source": [
    "def match_and_explode(c, regex):\n",
    "    match = []\n",
    "    \n",
    "    for i in c.values:\n",
    "        m = re.findall(regex, i[1])\n",
    "        if m != []:\n",
    "            match.append((i[0], m))\n",
    "\n",
    "    match_df = pd.DataFrame(match)\n",
    "    match_explode = match_df.explode(column=1)\n",
    "    \n",
    "    return match_explode"
   ]
  },
  {
   "cell_type": "code",
   "execution_count": 12,
   "id": "b3d90731",
   "metadata": {},
   "outputs": [],
   "source": [
    "noustp = match_and_explode(concs1, regex1)"
   ]
  },
  {
   "cell_type": "code",
   "execution_count": 14,
   "id": "33de2f61",
   "metadata": {},
   "outputs": [
    {
     "data": {
      "text/html": [
       "<div>\n",
       "<style scoped>\n",
       "    .dataframe tbody tr th:only-of-type {\n",
       "        vertical-align: middle;\n",
       "    }\n",
       "\n",
       "    .dataframe tbody tr th {\n",
       "        vertical-align: top;\n",
       "    }\n",
       "\n",
       "    .dataframe thead th {\n",
       "        text-align: right;\n",
       "    }\n",
       "</style>\n",
       "<table border=\"1\" class=\"dataframe\">\n",
       "  <thead>\n",
       "    <tr style=\"text-align: right;\">\n",
       "      <th></th>\n",
       "      <th>0</th>\n",
       "      <th>1</th>\n",
       "    </tr>\n",
       "  </thead>\n",
       "  <tbody>\n",
       "    <tr>\n",
       "      <th>0</th>\n",
       "      <td>URN:NBN:no-nb_digibok_2013020106047</td>\n",
       "      <td>NOU 2000 : 2</td>\n",
       "    </tr>\n",
       "  </tbody>\n",
       "</table>\n",
       "</div>"
      ],
      "text/plain": [
       "                                     0             1\n",
       "0  URN:NBN:no-nb_digibok_2013020106047  NOU 2000 : 2"
      ]
     },
     "execution_count": 14,
     "metadata": {},
     "output_type": "execute_result"
    }
   ],
   "source": [
    "match_sorted = noustp.sort_values(by=0, ignore_index=True)\n",
    "match_sorted"
   ]
  },
  {
   "cell_type": "code",
   "execution_count": null,
   "id": "67b966b2",
   "metadata": {},
   "outputs": [],
   "source": []
  }
 ],
 "metadata": {
  "kernelspec": {
   "display_name": "Python 3 (ipykernel)",
   "language": "python",
   "name": "python3"
  },
  "language_info": {
   "codemirror_mode": {
    "name": "ipython",
    "version": 3
   },
   "file_extension": ".py",
   "mimetype": "text/x-python",
   "name": "python",
   "nbconvert_exporter": "python",
   "pygments_lexer": "ipython3",
   "version": "3.11.5"
  }
 },
 "nbformat": 4,
 "nbformat_minor": 5
}
