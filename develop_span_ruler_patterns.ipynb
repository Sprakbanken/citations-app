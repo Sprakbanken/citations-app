{
 "cells": [
  {
   "cell_type": "code",
   "execution_count": 36,
   "metadata": {},
   "outputs": [],
   "source": [
    "import srsly\n",
    "import spacy\n",
    "from pathlib import Path"
   ]
  },
  {
   "cell_type": "code",
   "execution_count": null,
   "metadata": {},
   "outputs": [],
   "source": [
    "# Installer en norsk modell for spaCy\n",
    "!spacy download nb_core_news_sm #nb_core_news_md #nb_core_news_lg"
   ]
  },
  {
   "cell_type": "markdown",
   "metadata": {},
   "source": [
    "# Span_ruler patterns \n",
    "\n",
    "Se SpaCys [dokumentasjon](https://spacy.io/usage/rule-based-matching#spanruler) for mer informasjon.\n",
    "\n"
   ]
  },
  {
   "cell_type": "markdown",
   "metadata": {},
   "source": [
    "## Test mønstrene på teksteksempler"
   ]
  },
  {
   "cell_type": "code",
   "execution_count": 3,
   "metadata": {},
   "outputs": [],
   "source": [
    "# Last inn en norsk modell som er blitt installert, en av \"nb_core_news_sm\", \"nb_core_news_md\" eller \"nb_core_news_lg\n",
    "nlp = spacy.load(\"nb_core_news_sm\")\n",
    "# Last inn mønstre fra patterns.jsonl\n",
    "patterns = srsly.read_jsonl(\"patterns.jsonl\")\n",
    "# Legg til en span_ruler-komponent i pipelinen\n",
    "ruler = nlp.add_pipe(\"span_ruler\")\n",
    "# Legg til mønstrene\n",
    "ruler.add_patterns(patterns)"
   ]
  },
  {
   "cell_type": "markdown",
   "metadata": {},
   "source": [
    "### 1 tekst om gangen"
   ]
  },
  {
   "cell_type": "code",
   "execution_count": 31,
   "metadata": {},
   "outputs": [],
   "source": [
    "# Definer et teksteksempel\n",
    "text = \"Dette ble beskrevet i Navn [2019; s.20-21] og {Navnesen} et al. (2018, s.20).\"\n"
   ]
  },
  {
   "cell_type": "code",
   "execution_count": 32,
   "metadata": {},
   "outputs": [],
   "source": [
    "# Kjør teksten gjennom pipelinen\n",
    "doc = nlp(text)"
   ]
  },
  {
   "cell_type": "code",
   "execution_count": 33,
   "metadata": {},
   "outputs": [
    {
     "name": "stdout",
     "output_type": "stream",
     "text": [
      "Dette False\n",
      "ble False\n",
      "beskrevet False\n",
      "i False\n",
      "Navn False\n",
      "[ True\n",
      "2019 False\n",
      "; True\n",
      "s.20-21 False\n",
      "] True\n",
      "og False\n",
      "{ True\n",
      "Navnesen False\n",
      "} True\n",
      "et False\n",
      "al False\n",
      ". True\n",
      "( True\n",
      "2018 False\n",
      ", True\n",
      "s.20 False\n",
      ") True\n",
      ". True\n"
     ]
    }
   ],
   "source": [
    "# Se på annotasjonene\n",
    "for token in doc:\n",
    "    print(\n",
    "        token.text,\n",
    "        # token.pos_,\n",
    "        # token.dep_,\n",
    "        # token.ent_type_,\n",
    "        token.is_punct,\n",
    "        # token.is_alpha,\n",
    "        # token.is_digit,\n",
    "    )"
   ]
  },
  {
   "cell_type": "code",
   "execution_count": 34,
   "metadata": {},
   "outputs": [
    {
     "data": {
      "text/plain": [
       "{'ruler': [(2018, s.20)]}"
      ]
     },
     "execution_count": 34,
     "metadata": {},
     "output_type": "execute_result"
    }
   ],
   "source": [
    "doc.spans\n"
   ]
  },
  {
   "cell_type": "markdown",
   "metadata": {},
   "source": [
    "### Flere tekster samtidig"
   ]
  },
  {
   "cell_type": "code",
   "execution_count": 37,
   "metadata": {},
   "outputs": [],
   "source": [
    "# Evt. last inn en list med eksempler\n",
    "texts = Path(\"citation_examples.txt\").read_text().splitlines()\n",
    "docs = list(nlp.pipe(texts))"
   ]
  },
  {
   "cell_type": "code",
   "execution_count": 40,
   "metadata": {},
   "outputs": [
    {
     "name": "stdout",
     "output_type": "stream",
     "text": [
      "Videre omtaler han denne minneaktiviteten som «mediated action», karakterisert av at aktører handler og ytrer seg om fortiden, og danner minnefellesskap, ved hjelp av kulturelle redskaper eller artefakter (Wertsch, 2002, s. 13, 17, 62–65).\n",
      "[(Wertsch, 2002, s. 13, 17, 62–65)]\n",
      "\n",
      "Det teoretiske rammeverket for analysen er en sosiokulturelt innrettet minneteori, slik kulturantropologen James V. Wertsch legger den fram i boka Voices of Collective Remembering (2002).\n",
      "[Collective Remembering (2002), Remembering (2002), (2002)]\n",
      "\n",
      "Min undersøkelse er et bidrag til denne typen minneforskning, som enkelte har foreslått å definere som et eget felt under merkelappen «media memory» (Neiger, Meyers & Zandberg, 2011).\n",
      "[(Neiger, Meyers & Zandberg, 2011)]\n",
      "\n",
      "...men at ulike typer medier bidrar til å forme minner på ulike måter (Wertsch, 2002, s. 52).\n",
      "[(Wertsch, 2002, s. 52)]\n",
      "\n",
      "Sommeren 2017 besluttet regjeringen å avbryte arbeidet med å virkeliggjøre forslaget (KUD, 2017).\n",
      "[(KUD, 2017)]\n",
      "\n",
      "Videre fastslår den at bildene som illustrasjoner av dette tenkte minnestedet viser til et konkret, geografisk område (identifisert som et stykke Norge, nærmere bestemt landskapet omkring Utøya og Sørbråten), og til en spesifikk historisk hendelse (terroren 22. juli 2011).\n",
      "[(identifisert som et stykke Norge, nærmere bestemt landskapet omkring Utøya og Sørbråten), (identifisert som et stykke Norge, nærmere bestemt landskapet omkring Utøya og Sørbråten), og til en spesifikk historisk hendelse (terroren 22. juli 2011), (terroren 22. juli 2011)]\n",
      "\n",
      "Begge tilhører det Barthes (1994, s. 25) omtaler som «estetiske signifikater».\n",
      "[(1994, s. 25)]\n",
      "\n",
      "En rekke kompositoriske grep gir Dahlbergs illustrasjon en karakter som minner om 1800-tallets nordiske landskapsmaleri, slik det for eksempel er representert i Hans Gudes Vestlandsfjord fra 1862 (Ill. 4).\n",
      "[(Ill. 4)]\n",
      "\n",
      "Bildene tillegger på den ene siden stedet bestemte egenskaper (dramatikk, storslagenhet) som det ikke nødvendigvis ville komme til å ha i virkeligheten (jf. den tidligere nevnte uttalelsen fra KORO om konkurransebildenes idealisering av motivet).\n",
      "[(dramatikk, storslagenhet), (dramatikk, storslagenhet) som det ikke nødvendigvis ville komme til å ha i virkeligheten (jf. den tidligere nevnte uttalelsen fra KORO om konkurransebildenes idealisering av motivet), (jf. den tidligere nevnte uttalelsen fra KORO om konkurransebildenes idealisering av motivet)]\n",
      "\n",
      "Også i vitenskapelige publikasjoner er Memory Wound sammenstilt med andre minnesteder og omtalt på måter som gjør plasseringen i tid og rom uklar (se f.eks. Meyer, 2015; De Turk, 2017; Heath-Kelly, 2017; Knudsen & Ifversen, 2017).\n",
      "[(se f.eks. Meyer, 2015; De Turk, 2017; Heath-Kelly, 2017; Knudsen & Ifversen, 2017)]\n",
      "\n",
      "Corbett (1990: 1) åpner sin innflytelsesrike bok om grammatisk kjønn eller genus med å slå fast følgende:\n",
      "[(1990: 1)]\n",
      "\n",
      "Det kan ha med prosessering å gjøre, som Corbett (1990) allerede var inne på, altså at genus gjør det enklere å prosessere kommende informasjon i en setning, men gitt at så mange språk greier seg uten, er dette neppe en uttømmende forklaring på opphavet til genus.\n",
      "[Corbett (1990), (1990)]\n",
      "\n",
      "Hocketts (1958: 231) klassiske definisjon viser dette tydelig.\n",
      "[(1958: 231)]\n",
      "\n",
      "Spørsmålet om hvorvidt det finnes noen regler for tilordning av genus i norsk er et tema som har vært mye diskutert opp gjennom årene (se for eksempel Trosterud 2001), og bidraget fra Urek, Lohndal og Westergaard (2022) tar opp nettopp dette problemet.\n",
      "[(se for eksempel Trosterud 2001), (se for eksempel Trosterud 2001), og bidraget fra Urek, Lohndal og Westergaard (2022), Westergaard (2022), (2022)]\n",
      "\n",
      "Dette skjer via en mekanisme som blir kalla sonde - mål-kongruens (sjå t.d. Chomsky 2000: 122).\n",
      "[(sjå t.d. Chomsky 2000: 122)]\n",
      "\n",
      "Basert på korpusdata ser Rodina & Westergaard (2013) på korleis unge barn i Tromsø lærer seg kjønnssystemet.\n",
      "[Westergaard (2013), (2013)]\n",
      "\n",
      "Mange forskarar har etter kvart komme fram til dette: Fretheim (1985), Lødrup (2016, 2021), Svenonius (2017), Westergaard & Rodina (2016), Busterud et al. (2019, 2020).\n",
      "[Fretheim (1985), (1985), (1985), Lødrup (2016, 2021), (1985), Lødrup (2016, 2021), Svenonius (2017), (1985), Lødrup (2016, 2021), Svenonius (2017), Westergaard & Rodina (2016), (1985), Lødrup (2016, 2021), Svenonius (2017), Westergaard & Rodina (2016), Busterud et al. (2019, 2020), (2016, 2021), (2016, 2021), Svenonius (2017), (2016, 2021), Svenonius (2017), Westergaard & Rodina (2016), (2016, 2021), Svenonius (2017), Westergaard & Rodina (2016), Busterud et al. (2019, 2020), Svenonius (2017), (2017), (2017), Westergaard & Rodina (2016), (2017), Westergaard & Rodina (2016), Busterud et al. (2019, 2020), Rodina (2016), (2016), (2016), Busterud et al. (2019, 2020), (2019, 2020)]\n",
      "\n",
      "Enger (2004) argumenterer for ein mellomposisjon der den bundne artikkelen til ein viss grad uttrykkjer genus (sjå også Berg 2019).\n",
      "[Enger (2004), (2004), (2004) argumenterer for ein mellomposisjon der den bundne artikkelen til ein viss grad uttrykkjer genus (sjå også Berg 2019), (sjå også Berg 2019)]\n",
      "\n",
      "Et slikt perspektiv sier derfor svært lite om den psykologiske statusen til slike regler (jf. Gagliardi 2012: 110).\n",
      "[(jf. Gagliardi 2012: 110)]\n",
      "\n",
      "For å få innsikt i dette er det nødvendig å «uncover psychologically real and productive criteria that speakers exploit in “on-the-spot” gender assignment» (Thornton 2009: 17, jf. Corbett 1991 og Audring 2016).\n",
      "[(Thornton 2009: 17, jf. Corbett 1991 og Audring 2016)]\n",
      "\n",
      "Post hoc parvise sammenligninger (Lenth 2016) viste at det var signifikant større sannsynlighet for at deltakerne produserte hankjønn for pseudosubstantiver som endte på konsonant...\n",
      "[(Lenth 2016)]\n",
      "\n",
      "I Frankrike har man oppdaget at kristendommen også har en viktig plass i MichelHouellebecqs romanunivers (Julliot 2022).\n",
      "[(Julliot 2022)]\n",
      "\n",
      "I 1919 skrev Christian Claussen en artikkel i Edda om «Digteromvendelserne omkring Aarhun-dredskiftet» og trakk frem Garborg, August Strindberg og Johannes Jørgensen som skandi-naviske eksempler på diktere som hadde omvendt seg til katolisismen.\n",
      "[]\n",
      "\n",
      "Huysmans’  roman  À  rebours  (1884),  oversatt  tilnorsk  under  tittelen  Mot  strømmen  (1998),  ble  straks  assosiert  med  dekadansen  og  harsenere til og med blitt kalt «den dekadente ånds Bibel» (Huysmans 1977, baksideteksten).\n",
      "[(1884), (1884),  oversatt  tilnorsk  under  tittelen  Mot  strømmen  (1998), (1884),  oversatt  tilnorsk  under  tittelen  Mot  strømmen  (1998),  ble  straks  assosiert  med  dekadansen  og  harsenere til og med blitt kalt «den dekadente ånds Bibel» (Huysmans 1977, baksideteksten), (1998), (1998),  ble  straks  assosiert  med  dekadansen  og  harsenere til og med blitt kalt «den dekadente ånds Bibel» (Huysmans 1977, baksideteksten), (Huysmans 1977, baksideteksten)]\n",
      "\n",
      "Men i Garborgs vokabular er «ny-idealistisk» og «dekadent» og «ny-idealister» og «dekadenter» tilnærmet synonymer (Garborg 1980 b, 423).\n",
      "[(Garborg 1980 b, 423)]\n",
      "\n",
      "De navngitte utstederne var ridderen Sten Sture d.e. (ca. 1437‒1503), tidligere svensk riksforstander og på dette tidspunktet rikshovmester, og ridderen Knut Alvsson (ca. 1455‒1502), som titulerte seg «ridder i Norge», dessuten var «kopperbergsmenn», «sølvbergsmenn», «jernbergsmenn» og «menige allmue i Dalarne» ført opp som utstedere.\n",
      "[(ca. 1437‒1503), (ca. 1437‒1503), tidligere svensk riksforstander og på dette tidspunktet rikshovmester, og ridderen Knut Alvsson (ca. 1455‒1502), (ca. 1455‒1502)]\n",
      "\n",
      "Kong Hans ble dessuten beskyldt for å ha fraternisert med russerne som hadde angrepet rikest østligste provins («landsende») Finland.\n",
      "[(«landsende»)]\n",
      "\n",
      "Det norske aristokratiet var derimot for svakt til å stå imot den danske dominansen innenfor unionen over tid, og Norge gikk til slutt under som et selvstendig rike (Moseng m.fl. 2007: 318‒400).\n",
      "[(Moseng m.fl. 2007: 318‒400)]\n",
      "\n",
      "Dansk historiografi på si side har særlig lagt vekt på Sten Sture som den dyktige taktikeren (Schück 2013).\n",
      "[(Schück 2013)]\n",
      "\n",
      "I løpet av 1900-tallet kom imidlertid tendenser til et endret syn, som kulminerte med Sven Ulric Palmes (1968) totale revurdering i sin biografi fra 1950.\n",
      "[Sven Ulric Palmes (1968), Ulric Palmes (1968), Palmes (1968), (1968)]\n",
      "\n",
      "Bo Jonsson ble Sveriges rikeste og mektigste mann i 1370- og 80-åra og var en viktig premissleverandør for at Sverige gikk inn i Kalmarunionen (Engström 1935; Larsson 1997: 36‒38).\n",
      "[(Engström 1935; Larsson 1997: 36‒38)]\n",
      "\n",
      "Mistankens hermeneutikk er utvilsomt berettiget (Hellesnes 1988: 170).\n",
      "[(Hellesnes 1988: 170)]\n",
      "\n"
     ]
    }
   ],
   "source": [
    "for doc in docs:\n",
    "    print(doc.text)\n",
    "    print(doc.spans[\"ruler\"])\n",
    "    print()"
   ]
  },
  {
   "cell_type": "code",
   "execution_count": null,
   "metadata": {},
   "outputs": [],
   "source": []
  }
 ],
 "metadata": {
  "kernelspec": {
   "display_name": "citenv",
   "language": "python",
   "name": "python3"
  },
  "language_info": {
   "codemirror_mode": {
    "name": "ipython",
    "version": 3
   },
   "file_extension": ".py",
   "mimetype": "text/x-python",
   "name": "python",
   "nbconvert_exporter": "python",
   "pygments_lexer": "ipython3",
   "version": "3.12.0"
  }
 },
 "nbformat": 4,
 "nbformat_minor": 2
}
